{
  "nbformat": 4,
  "nbformat_minor": 0,
  "metadata": {
    "colab": {
      "provenance": []
    },
    "kernelspec": {
      "name": "python3",
      "display_name": "Python 3"
    },
    "language_info": {
      "name": "python"
    }
  },
  "cells": [
    {
      "cell_type": "markdown",
      "source": [
        "1.Given an integer array nums of 2n integers, group these integers into n pairs (a1, b1), (a2, b2),..., (an, bn) such that the sum of min(ai, bi) for all i is maximized. Return the maximized sum."
      ],
      "metadata": {
        "id": "RwuAeR8f6pM2"
      }
    },
    {
      "cell_type": "markdown",
      "source": [],
      "metadata": {
        "id": "nZ7puGcp8p-3"
      }
    },
    {
      "cell_type": "code",
      "source": [
        "class Solution:\n",
        "    def max_Sum(self, nums):\n",
        "        nums = sorted(nums)\n",
        "        n = len(nums)\n",
        "        total = 0\n",
        "        for i in range(0, n, 2):\n",
        "            total += min(nums[i:i + 2])\n",
        "        return total\n",
        "\n",
        "s = Solution()\n",
        "nums = [1,4,3,2]\n",
        "s.max_Sum(nums)"
      ],
      "metadata": {
        "colab": {
          "base_uri": "https://localhost:8080/"
        },
        "id": "KJFDC4YX7SxB",
        "outputId": "ea085f05-6930-4623-a01e-c5c41eb63fc6"
      },
      "execution_count": null,
      "outputs": [
        {
          "output_type": "execute_result",
          "data": {
            "text/plain": [
              "4"
            ]
          },
          "metadata": {},
          "execution_count": 3
        }
      ]
    },
    {
      "cell_type": "markdown",
      "source": [
        "Alice has n candies, where the ith candy is of type candyType[i]. Alice noticed that she started to gain weight, so she visited a doctor. \n",
        "\n",
        "The doctor advised Alice to only eat n / 2 of the candies she has (n is always even). Alice likes her candies very much, and she wants to eat the maximum number of different types of candies while still following the doctor's advice. \n",
        "\n",
        "Given the integer array candyType of length n, return the maximum number of different types of candies she can eat if she only eats n / 2 of them.\n"
      ],
      "metadata": {
        "id": "tWmzT0Nz7-25"
      }
    },
    {
      "cell_type": "code",
      "source": [
        "class Solution:\n",
        "    def distributeCandies(self,nums):\n",
        "        return min(len(set(nums)), len(nums) // 2)\n",
        "\n",
        "\n",
        "s = Solution()\n",
        "nums=[1,1,2,2,3,3]\n",
        "s.distributeCandies(nums)\n"
      ],
      "metadata": {
        "colab": {
          "base_uri": "https://localhost:8080/"
        },
        "id": "vUGy50m48_4O",
        "outputId": "a17199da-6911-4f9b-c697-a3ca0ce0fcf0"
      },
      "execution_count": null,
      "outputs": [
        {
          "output_type": "execute_result",
          "data": {
            "text/plain": [
              "3"
            ]
          },
          "metadata": {},
          "execution_count": 10
        }
      ]
    },
    {
      "cell_type": "markdown",
      "source": [
        "3.We define a harmonious array as an array where the difference between its maximum value\n",
        "and its minimum value is exactly 1.\n",
        "\n",
        "Given an integer array nums, return the length of its longest harmonious subsequence\n",
        "among all its possible subsequences.\n",
        "\n",
        "A subsequence of an array is a sequence that can be derived from the array by deleting some or no elements without changing the order of the remaining elements.\n"
      ],
      "metadata": {
        "id": "yDzbjBIN-93g"
      }
    },
    {
      "cell_type": "code",
      "source": [
        "class Solution(object):\n",
        "    def findLHS(self, nums):\n",
        "        \n",
        "        left=0\n",
        "        result = 0\n",
        "        nums = sorted(nums)\n",
        "        for i in range(len(nums)):\n",
        "            while left < i and nums[i] - nums[left] > 1:\n",
        "                left += 1\n",
        "            if nums[i] - nums[left] == 1:\n",
        "                result = max(i - left + 1, result)\n",
        "        return result\n",
        "\n",
        "s = Solution()\n",
        "nums =  [1,3,2,2,5,2,3,7]\n",
        "s.findLHS(nums)"
      ],
      "metadata": {
        "colab": {
          "base_uri": "https://localhost:8080/"
        },
        "id": "L6QjVy-lCKFs",
        "outputId": "3dcb75bf-fefe-44bc-ac3d-194c224eac61"
      },
      "execution_count": null,
      "outputs": [
        {
          "output_type": "execute_result",
          "data": {
            "text/plain": [
              "5"
            ]
          },
          "metadata": {},
          "execution_count": 20
        }
      ]
    },
    {
      "cell_type": "markdown",
      "source": [
        "4.You have a long flowerbed in which some of the plots are planted, and some are not.\n",
        "However, flowers cannot be planted in adjacent plots.\n",
        "Given an integer array flowerbed containing 0's and 1's, where 0 means empty and 1 means not empty, and an integer n, return true if n new flowers can be planted in the flowerbed without violating the no-adjacent-flowers rule and false otherwise.\n"
      ],
      "metadata": {
        "id": "GJ7BQ7U4-NNr"
      }
    },
    {
      "cell_type": "code",
      "source": [
        "class Solution :\n",
        "   def flowers(self,flowerbed,n):\n",
        "        \n",
        "        bed = [0] + flowerbed + [0]\n",
        "        \n",
        "        for i in range(1, len(flowerbed)+1):\n",
        "            if bed[i] == bed[i-1] == bed[i+1] == 0:\n",
        "                bed[i] = 1\n",
        "                n -= 1\n",
        "            \n",
        "            if n <= 0:\n",
        "               return True\n",
        "        \n",
        "        return False\n",
        "\n",
        "s = Solution()\n",
        "flowerbed = [1,0,0,0,1]\n",
        "n = 1\n",
        "s.flowers(flowerbed,n)"
      ],
      "metadata": {
        "colab": {
          "base_uri": "https://localhost:8080/"
        },
        "id": "eYdMqBW09MDE",
        "outputId": "6724b59b-4458-4e50-d4f1-b87d13c16908"
      },
      "execution_count": 1,
      "outputs": [
        {
          "output_type": "execute_result",
          "data": {
            "text/plain": [
              "True"
            ]
          },
          "metadata": {},
          "execution_count": 1
        }
      ]
    },
    {
      "cell_type": "markdown",
      "source": [
        "5.Given an integer array nums, find three numbers whose product is maximum and return the maximum product."
      ],
      "metadata": {
        "id": "wjmNCzZA-1D9"
      }
    },
    {
      "cell_type": "code",
      "source": [
        "nums = [1,2,3]\n",
        "res = 1\n",
        "for i in range(len(nums)):\n",
        "  res = res * nums[i]\n",
        "print(\"output = \",res)"
      ],
      "metadata": {
        "colab": {
          "base_uri": "https://localhost:8080/"
        },
        "id": "rXjlfzZt_NPP",
        "outputId": "a098fe2f-6ae6-4227-dd36-21178d8be0e0"
      },
      "execution_count": 8,
      "outputs": [
        {
          "output_type": "stream",
          "name": "stdout",
          "text": [
            "output =  6\n"
          ]
        }
      ]
    },
    {
      "cell_type": "markdown",
      "source": [
        "6.Given an array of integers nums which is sorted in ascending order, and an integer target,\n",
        "write a function to search target in nums. If target exists, then return its index. Otherwise,\n",
        "return -1.\n",
        "\n",
        "You must write an algorithm with O(log n) runtime complexity.\n"
      ],
      "metadata": {
        "id": "ADobIpkxAlW3"
      }
    },
    {
      "cell_type": "code",
      "source": [
        "nums =[-1,0,3,5,9,12]\n",
        "tar= 9\n",
        "def searching(nums,tar):\n",
        "    for i in range(len(nums)):\n",
        "      if nums[i] == tar:\n",
        "        return i\n",
        "\n",
        "print(searching(nums,tar))"
      ],
      "metadata": {
        "colab": {
          "base_uri": "https://localhost:8080/"
        },
        "id": "txTdDcTxA1LF",
        "outputId": "8bfb444e-ab02-4ca1-bf8f-caf09393cf34"
      },
      "execution_count": 12,
      "outputs": [
        {
          "output_type": "stream",
          "name": "stdout",
          "text": [
            "4\n"
          ]
        }
      ]
    },
    {
      "cell_type": "markdown",
      "source": [
        "7.An array is monotonic if it is either monotone increasing or monotone decreasing.\n",
        "\n",
        "An array nums is monotone increasing if for all i <= j, nums[i] <= nums[j]. An array nums is\n",
        "monotone decreasing if for all i <= j, nums[i] >= nums[j].\n",
        "\n",
        "Given an integer array nums, return true if the given array is monotonic, or false otherwise."
      ],
      "metadata": {
        "id": "Vr35mQefCG3t"
      }
    },
    {
      "cell_type": "code",
      "source": [
        "class Solution:\n",
        "\n",
        " def check(self,arr):\n",
        "    \n",
        "    inc = True\n",
        "    dec = True\n",
        "     \n",
        "    #monotonic_increasing\n",
        "    for i in range(0, len(arr)-1):\n",
        "       \n",
        "      \n",
        "        if arr[i] > arr[i+1]:\n",
        "            inc = False\n",
        " \n",
        "    # monotonic_decreasing\n",
        "    for i in range(0, len(arr)-1):\n",
        "       \n",
        "        if arr[i] < arr[i+1]:\n",
        "            dec = False\n",
        " \n",
        "   \n",
        "    return inc or dec\n",
        " \n",
        "s = Solution()\n",
        "arr = [1, 2, 2, 3]\n",
        "ans = s.check(arr)\n",
        "if ans == True:\n",
        "        print(\"True\")\n",
        "else:\n",
        "        print(\"False\")"
      ],
      "metadata": {
        "colab": {
          "base_uri": "https://localhost:8080/"
        },
        "id": "INrqT1qDFShm",
        "outputId": "1d615176-da19-4afa-ca9e-bce1f05453b1"
      },
      "execution_count": 39,
      "outputs": [
        {
          "output_type": "stream",
          "name": "stdout",
          "text": [
            "True\n"
          ]
        }
      ]
    },
    {
      "cell_type": "markdown",
      "source": [
        "8.You are given an integer array nums and an integer k.\n",
        "\n",
        "In one operation, you can choose any index i where 0 <= i < nums.length and change nums[i] to nums[i] + x where x is an integer from the range [-k, k]. You can apply this operation at most once for each index i.\n",
        "\n",
        "The score of nums is the difference between the maximum and minimum elements in nums.\n",
        "\n",
        "Return the minimum score of nums after applying the mentioned operation at most once for each index in it.\n"
      ],
      "metadata": {
        "id": "imjk2ZWBJBUk"
      }
    },
    {
      "cell_type": "code",
      "source": [
        "class Solution :\n",
        "    def min_score(self,nums,k): \n",
        "         \n",
        "          nums=sorted(nums)\n",
        "          maxE=nums[len(nums)-1];\n",
        "          minE=nums[0];\n",
        "          ans=maxE-minE;\n",
        "          for i in range(len(nums)-1):\n",
        "            \n",
        "                 currMax = max(nums[n-1] - k, nums[i] + k)\n",
        "                 currMin = min(nums[0] + k, nums[i+1] - k)\n",
        "                 ans = min(ans, currMax - currMin)\n",
        "\n",
        "          print(\"output = \",ans)\n",
        "\n",
        "s = Solution()\n",
        "nums = [1]\n",
        "k = 0\n",
        "s.min_score(nums,k)\n",
        "        \n",
        "        "
      ],
      "metadata": {
        "colab": {
          "base_uri": "https://localhost:8080/"
        },
        "id": "dZByVzCVJ8qu",
        "outputId": "09c8c41c-1706-4f23-c3a7-d7ad41623ed0"
      },
      "execution_count": 44,
      "outputs": [
        {
          "output_type": "stream",
          "name": "stdout",
          "text": [
            "output =  0\n"
          ]
        }
      ]
    }
  ]
}