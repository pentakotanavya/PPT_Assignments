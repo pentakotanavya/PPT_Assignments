{
  "nbformat": 4,
  "nbformat_minor": 0,
  "metadata": {
    "colab": {
      "provenance": []
    },
    "kernelspec": {
      "name": "python3",
      "display_name": "Python 3"
    },
    "language_info": {
      "name": "python"
    }
  },
  "cells": [
    {
      "cell_type": "markdown",
      "source": [
        "1.Given an integer array nums of length n and an integer target, find three integers\n",
        "in nums such that the sum is closest to the target.\n",
        "Return the sum of the three integers.\n",
        "\n",
        "You may assume that each input would have exactly one solution."
      ],
      "metadata": {
        "id": "f6-N9_4yWfXU"
      }
    },
    {
      "cell_type": "code",
      "source": [
        "class Solution :\n",
        "    def Closest(self,nums, target) :\n",
        "        result=nums[0]+nums[1]+nums[len(nums)-1]\n",
        "        nums = sorted(nums) \n",
        "        for i in range(len(nums)-2):\n",
        "              start=i+1\n",
        "              end=len(nums)-1\n",
        "              while start<end :  \n",
        "                     sum=nums[i]+nums[start]+nums[end]\n",
        "                     if(sum>target) :\n",
        "                            end -=  1\n",
        "                     else :\n",
        "                            start+= 1\n",
        "              if abs(sum-target)<abs(result-target):\n",
        "                     result=sum\n",
        "        return result\n",
        "    \n",
        "s =Solution()\n",
        "nums = [-1,2,1,-4]\n",
        "target = 1\n",
        "s.Closest(nums, target)\n"
      ],
      "metadata": {
        "id": "hDOaJC0OXJvS"
      },
      "execution_count": null,
      "outputs": []
    },
    {
      "cell_type": "markdown",
      "source": [
        "Given an array nums of n integers, return an array of all the unique quadruplets\n",
        "[nums[a], nums[b], nums[c], nums[d]] such that:\n",
        "           ● 0 <= a, b, c, d < n\n",
        "           ● a, b, c, and d are distinct.\n",
        "           ● nums[a] + nums[b] + nums[c] + nums[d] == target\n",
        "\n",
        "You may return the answer in any order.\n"
      ],
      "metadata": {
        "id": "TDj4pB3VZVNE"
      }
    },
    {
      "cell_type": "code",
      "source": [
        "from typing import List\n",
        "\n",
        "\n",
        "class Solution:\n",
        "    def fourSum(self, nums,target):\n",
        "        nums.sort()\n",
        "        res = []\n",
        "\n",
        "        def k_sum(nums, k, target, arr, start_idx):\n",
        "            if k == 2:\n",
        "                two_sum(nums, arr, k, start_idx, target)\n",
        "                return\n",
        "            for i in range(start_idx, len(nums) - k + 1):\n",
        "                if i > start_idx and nums[i] == nums[i - 1]:\n",
        "                    continue\n",
        "                k_sum(nums, k - 1, target - nums[i], arr + [nums[i]], i + 1)\n",
        "\n",
        "        def two_sum(nums, arr, k, start_idx, target):\n",
        "            left = start_idx\n",
        "            right = len(nums) - 1\n",
        "\n",
        "            while left < right:\n",
        "                total = nums[left] + nums[right]\n",
        "                if total == target:\n",
        "                    res.append(arr + [nums[left], nums[right]])\n",
        "                    left += 1\n",
        "                    right -= 1\n",
        "\n",
        "                    while left < right and nums[left] == nums[left - 1]:\n",
        "                        left += 1  # skip same element to avoid duplicate quadruplets\n",
        "                    while left < right and nums[right] == nums[right + 1]:\n",
        "                        right -= 1  # skip same element to avoid duplicate quadruplets\n",
        "                elif total < target:\n",
        "                    left += 1\n",
        "                else:\n",
        "                    right -= 1\n",
        "\n",
        "        k_sum(nums, 4, target, [], 0)\n",
        "        return res\n",
        "\n",
        "s = Solution()\n",
        "nums = [1,0,-1,0,-2,2]\n",
        "target = 0\n",
        "s.fourSum(nums,target)"
      ],
      "metadata": {
        "id": "KwVN2iiUasTD"
      },
      "execution_count": null,
      "outputs": []
    },
    {
      "cell_type": "markdown",
      "source": [
        "3.A permutation of an array of integers is an arrangement of its members into a\n",
        "sequence or linear order.\n",
        "\n",
        "For example, for arr = [1,2,3], the following are all the permutations of arr:\n",
        "[1,2,3], [1,3,2], [2, 1, 3], [2, 3, 1], [3,1,2], [3,2,1].\n",
        "\n",
        "The next permutation of an array of integers is the next lexicographically greater\n",
        "permutation of its integer. More formally, if all the permutations of the array are\n",
        "sorted in one container according to their lexicographical order, then the next\n",
        "permutation of that array is the permutation that follows it in the sorted container.\n",
        "\n",
        "If such an arrangement is not possible, the array must be rearranged as the\n",
        "lowest possible order (i.e., sorted in ascending order).\n"
      ],
      "metadata": {
        "id": "BTy5nxyxeHhu"
      }
    },
    {
      "cell_type": "code",
      "source": [
        "class Solution:\n",
        "  def nextPermutation(self,nums):\n",
        "    n = len(nums)\n",
        "\n",
        "    # From back to front, find the first num < nums[i + 1]\n",
        "    i = n - 2\n",
        "    while i >= 0:\n",
        "      if nums[i] < nums[i + 1]:\n",
        "        break\n",
        "      i -= 1\n",
        "\n",
        "    # From back to front, find the first num > nums[i], swap it with nums[i]\n",
        "    if i >= 0:\n",
        "      for j in range(n - 1, i, -1):\n",
        "        if nums[j] > nums[i]:\n",
        "          nums[i], nums[j] = nums[j], nums[i]\n",
        "          break\n",
        "\n",
        "    def reverse(nums: List[int], l: int, r: int) -> None:\n",
        "      while l < r:\n",
        "        nums[l], nums[r] = nums[r], nums[l]\n",
        "        l += 1\n",
        "        r -= 1\n",
        "\n",
        "    # Reverse nums[i + 1..n - 1]\n",
        "    reverse(nums, i + 1, len(nums) - 1)\n",
        "    return nums\n",
        "\n",
        "s =Solution()\n",
        "nums = [1,2,3]\n",
        "s.nextPermutation(nums)"
      ],
      "metadata": {
        "id": "cUbwGmFoupY3"
      },
      "execution_count": null,
      "outputs": []
    },
    {
      "cell_type": "markdown",
      "source": [
        "4.Given a sorted array of distinct integers and a target value, return the index if the\n",
        "target is found. If not, return the index where it would be if it were inserted in\n",
        "order.\n",
        "\n",
        "You must write an algorithm with O(log n) runtime complexity.\n"
      ],
      "metadata": {
        "id": "n8kitJ2OvYZZ"
      }
    },
    {
      "cell_type": "code",
      "source": [
        "class Solution :\n",
        "    def searching(self,nums,  target) :\n",
        "        for i in range(len(nums)):\n",
        "            if target <= nums[i] :\n",
        "                return i        \n",
        "        return len(nums)\n",
        "    \n",
        "s = Solution()\n",
        "nums = [1,3,5,6]\n",
        "target = 5\n",
        "s.searching(nums,  target) "
      ],
      "metadata": {
        "id": "4PREgNZlv1Qi"
      },
      "execution_count": null,
      "outputs": []
    },
    {
      "cell_type": "markdown",
      "source": [
        "5.You are given a large integer represented as an integer array digits, where each\n",
        "digits[i] is the ith digit of the integer. The digits are ordered from most significant\n",
        "to least significant in left-to-right order. The large integer does not contain any\n",
        "leading 0's.\n",
        "\n",
        "Increment the large integer by one and return the resulting array of digits.\n"
      ],
      "metadata": {
        "id": "anjjS2Opwcdg"
      }
    },
    {
      "cell_type": "code",
      "source": [
        "string =\"\"\n",
        "result =[]\n",
        "digits = [1,2,3]\n",
        "for d in digits:\n",
        "    string += str(d)\n",
        "i = int(string) + 1\n",
        "for w in str(i):\n",
        "     result.append(w)\n",
        "        \n",
        "print(\"output = \",result)"
      ],
      "metadata": {
        "colab": {
          "base_uri": "https://localhost:8080/"
        },
        "id": "Qmag55q8xNI4",
        "outputId": "15377c40-d2e9-45fc-9323-7233cc103edd"
      },
      "execution_count": 29,
      "outputs": [
        {
          "output_type": "stream",
          "name": "stdout",
          "text": [
            "output =  ['1', '2', '4']\n"
          ]
        }
      ]
    },
    {
      "cell_type": "markdown",
      "source": [
        "6.Given a non-empty array of integers nums, every element appears twice except\n",
        "for one. Find that single one.\n",
        "\n",
        "You must implement a solution with a linear runtime complexity and use only\n",
        "constant extra space."
      ],
      "metadata": {
        "id": "tEAHKOgFys-X"
      }
    },
    {
      "cell_type": "code",
      "source": [
        "def find(nums, n):\n",
        "    n=len(nums)\n",
        "    for i in range(n):\n",
        "        count = 0\n",
        "        for j in range(n):\n",
        "            if(nums[i] == nums[j]):\n",
        "                  count += 1\n",
        "  \n",
        "        if(count == 1):\n",
        "            return nums[i]\n",
        "            \n",
        "   \n",
        "    return -1\n",
        "  \n",
        "nums = [2,2, 1]\n",
        "n = len(ar)\n",
        "# Function call\n",
        "print(\"Element occurring once is\", find(nums, n))\n",
        "  "
      ],
      "metadata": {
        "colab": {
          "base_uri": "https://localhost:8080/"
        },
        "id": "TDj38km81ovG",
        "outputId": "7d89a586-48ac-428a-db8c-2d44efd0a0f1"
      },
      "execution_count": 40,
      "outputs": [
        {
          "output_type": "stream",
          "name": "stdout",
          "text": [
            "Element occurring once is 1\n"
          ]
        }
      ]
    },
    {
      "cell_type": "markdown",
      "source": [
        "7.You are given an inclusive range [lower, upper] and a sorted unique integer array\n",
        "nums, where all elements are within the inclusive range.\n",
        "\n",
        "A number x is considered missing if x is in the range [lower, upper] and x is not in\n",
        "nums.\n",
        "\n",
        "Return the shortest sorted list of ranges that exactly covers all the missing\n",
        "numbers. That is, no element of nums is included in any of the ranges, and each\n",
        "missing number is covered by one of the ranges.\n"
      ],
      "metadata": {
        "id": "fJsmGVK63ClX"
      }
    },
    {
      "cell_type": "code",
      "source": [
        "class Solution:\n",
        "    def find(self, nums, lower, upper):\n",
        "        results = []\n",
        "        \n",
        "        if not nums:\n",
        "            gap = self.helper(lower, upper)\n",
        "            results.append(gap)\n",
        "            \n",
        "            return results\n",
        "        \n",
        "        prev = lower - 1\n",
        "        \n",
        "        for num in nums:\n",
        "            if prev + 1 != num:                \n",
        "                gap = self.helper(prev + 1, num - 1)\n",
        "                results.append(gap)\n",
        "            prev = num    \n",
        "        \n",
        "        if nums[-1] < upper:\n",
        "            gap = self.helper(nums[-1] + 1, upper)\n",
        "            results.append(gap)\n",
        "                    \n",
        "        return results\n",
        "    \n",
        "    def helper(self, left, right):\n",
        "        if left == right:\n",
        "            return str(left)\n",
        "        \n",
        "        return str(left) + \"->\" + str(right)\n",
        "\n",
        "s = Solution()\n",
        "nums = [0,1,3,50,75]\n",
        "lower = 0\n",
        "upper = 99\n",
        "s.find(nums,lower,upper)\n",
        "        "
      ],
      "metadata": {
        "colab": {
          "base_uri": "https://localhost:8080/"
        },
        "id": "L1_BDY5732Qq",
        "outputId": "4dd7f2aa-1938-447a-8257-26cf966bafa8"
      },
      "execution_count": 42,
      "outputs": [
        {
          "output_type": "execute_result",
          "data": {
            "text/plain": [
              "['2', '4->49', '51->74', '76->99']"
            ]
          },
          "metadata": {},
          "execution_count": 42
        }
      ]
    },
    {
      "cell_type": "markdown",
      "source": [
        "8.Given an array of meeting time intervals where intervals[i] = [starti, endi],\n",
        "determine if a person could attend all meetings.\n"
      ],
      "metadata": {
        "id": "B2qnrxcX4oLL"
      }
    },
    {
      "cell_type": "code",
      "source": [
        "class Solution:\n",
        "\n",
        "    def Attend(self, intervals):\n",
        "        n = len(intervals)\n",
        "        start = n\n",
        "        end = n\n",
        "        intervals.sort(key=lambda x: x[0])\n",
        "        for i in range(len(intervals) - 1):\n",
        "            if intervals[i][1] > intervals[i + 1][0]:\n",
        "                return False\n",
        "\n",
        "            return True\n",
        "\n",
        "s =Solution()\n",
        "intervals = [[0,30],[5,10],[15,20]]\n",
        "s.Attend(intervals)\n"
      ],
      "metadata": {
        "colab": {
          "base_uri": "https://localhost:8080/"
        },
        "id": "9SPLVf2w5wpl",
        "outputId": "37874f49-5ba7-4ade-a856-9c942f491ff1"
      },
      "execution_count": 71,
      "outputs": [
        {
          "output_type": "execute_result",
          "data": {
            "text/plain": [
              "False"
            ]
          },
          "metadata": {},
          "execution_count": 71
        }
      ]
    }
  ]
}