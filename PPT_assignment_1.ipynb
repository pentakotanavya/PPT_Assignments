{
  "nbformat": 4,
  "nbformat_minor": 0,
  "metadata": {
    "colab": {
      "private_outputs": true,
      "provenance": []
    },
    "kernelspec": {
      "name": "python3",
      "display_name": "Python 3"
    },
    "language_info": {
      "name": "python"
    }
  },
  "cells": [
    {
      "cell_type": "markdown",
      "source": [
        "\n",
        "💡 **Q1.** Given an array of integers nums and an integer target, return indices of the two numbers such that they add up to target.\n",
        "\n",
        "You may assume that each input would have exactly one solution, and you may not use the same element twice.\n",
        "\n",
        "You can return the answer in any order.\n",
        "\n"
      ],
      "metadata": {
        "id": "fRngLyV5TTYz"
      }
    },
    {
      "cell_type": "code",
      "source": [
        "def twoSum(nums, target):\n",
        "    cnt = 0\n",
        "    i = 0\n",
        "    while cnt < len(nums):\n",
        "        temp = 0\n",
        "        if i == cnt:\n",
        "            i += 1\n",
        "        else:\n",
        "            temp = nums[cnt] + nums[i]\n",
        "            if temp == target and i < cnt:\n",
        "                return [i,cnt]\n",
        "            i += 1\n",
        "        if i == len(nums)-1:\n",
        "            i = 0\n",
        "            cnt += 1\n",
        "\n",
        "if __name__==\"__main__\":\n",
        "  arr = [2,7,11,15]\n",
        "  tar = 9\n",
        "\n",
        "indices = twoSum(arr,tar)\n",
        "print(\"indices of the target elements are : \",indices)\n",
        "\n"
      ],
      "metadata": {
        "id": "1dzYsHmOTe5r"
      },
      "execution_count": null,
      "outputs": []
    },
    {
      "cell_type": "markdown",
      "source": [
        "\n",
        "💡 **Q2.** Given an integer array nums and an integer val, remove all occurrences of val in nums in-place. The order of the elements may be changed. Then return the number of elements in nums which are not equal to val.\n",
        "\n",
        "Consider the number of elements in nums which are not equal to val be k, to get accepted, you need to do the following things:\n",
        "\n",
        "- Change the array nums such that the first k elements of nums contain the elements which are not equal to val. The remaining elements of nums are not important as well as the size of nums.\n",
        "- Return k.\n"
      ],
      "metadata": {
        "id": "2fR79OGKTmdv"
      }
    },
    {
      "cell_type": "code",
      "source": [
        "def removeElement(nums,value):\n",
        "        for i in nums[ : ]:\n",
        "            if i == value:\n",
        "                nums.remove(i)\n",
        "        print(f\"array={nums} and  length ={len(nums)}\")\n",
        "if __name__==\"__main__\":\n",
        "  arr = [3,2,2,3]\n",
        "  val= 3\n",
        "  print(\"output = \",removeElement(arr,val))\n",
        "  "
      ],
      "metadata": {
        "id": "MenMiqHaYZBc"
      },
      "execution_count": null,
      "outputs": []
    },
    {
      "cell_type": "markdown",
      "source": [
        "\n",
        "💡 **Q3.** Given a sorted array of distinct integers and a target value, return the index if the target is found. If not, return the index where it would be if it were inserted in order.\n",
        "\n",
        "You must write an algorithm with O(log n) runtime complexity.\n"
      ],
      "metadata": {
        "id": "J0uFIuJAabgf"
      }
    },
    {
      "cell_type": "code",
      "source": [
        "def find_index(nums,target):\n",
        "     \n",
        "    # Traverse the array\n",
        "    for i in range(len(nums)):\n",
        "         \n",
        "        # If target  found\n",
        "        if nums[i] == target:\n",
        "            return i\n",
        "             \n",
        "        # If element exceeds target\n",
        "        elif nums[i] > target:\n",
        "            return i\n",
        "             \n",
        "   \n",
        "arr = [1, 3, 5, 6]\n",
        "tar = 5\n",
        "print(find_index(arr, tar))"
      ],
      "metadata": {
        "id": "zvMkmn1JcRE-"
      },
      "execution_count": null,
      "outputs": []
    },
    {
      "cell_type": "markdown",
      "source": [
        "\n",
        "💡 **Q4.** You are given a large integer represented as an integer array digits, where each digits[i] is the ith digit of the integer. The digits are ordered from most significant to least significant in left-to-right order. The large integer does not contain any leading 0's.\n",
        "\n",
        "Increment the large integer by one and return the resulting array of digits.\n"
      ],
      "metadata": {
        "id": "VrhRsO7cdm7E"
      }
    },
    {
      "cell_type": "code",
      "source": [
        "class Solution(object):\n",
        "    def plusOne(self, digits):\n",
        "        integer =\"\"\n",
        "        result =[]\n",
        "        for d in digits:\n",
        "            integer += str(d)\n",
        "        i = int(integer) + 1\n",
        "        for w in str(i):\n",
        "            result.append(w)\n",
        "        return result\n",
        "\n",
        "s = Solution()\n",
        "digits = [1,2,3]\n",
        "s.plusOne(digits)"
      ],
      "metadata": {
        "id": "BZQwzRC1duGe"
      },
      "execution_count": null,
      "outputs": []
    },
    {
      "cell_type": "markdown",
      "source": [
        "\n",
        "💡 You are given two integer arrays nums1 and nums2, sorted in non-decreasing order, and two integers m and n, representing the number of elements in nums1 and nums2 respectively.\n",
        "\n",
        "Merge nums1 and nums2 into a single array sorted in non-decreasing order.\n",
        "\n",
        "The final sorted array should not be returned by the function, but instead be stored inside the array nums1. To accommodate this, nums1 has a length of m + n, where the first m elements denote the elements that should be merged, and the last n elements are set to 0 and should be ignored. nums2 has a length of n.\n"
      ],
      "metadata": {
        "id": "ozu9q1ckhRki"
      }
    },
    {
      "cell_type": "code",
      "source": [
        "class Solution:\n",
        "    def merge(self, nums1, m, nums2, n):\n",
        "        nums1Copy = nums1[:m]\n",
        "        p1, p2 = 0, 0\n",
        "        p = 0\n",
        " \n",
        "        while p < m + n:\n",
        "            if p2 >= n or (p1 < m and nums1Copy[p1] < nums2[p2]):\n",
        "                nums1[p] = nums1Copy[p1]\n",
        "                p1 += 1\n",
        "            else:\n",
        "                nums1[p] = nums2[p2]\n",
        "                p2 += 1\n",
        "            p += 1\n",
        "        return nums1\n",
        "\n",
        "nums1 = [1,2,3,0,0,0]\n",
        "m = 3\n",
        "nums2 = [2,5,6]\n",
        "n = 3\n",
        "s = Solution()\n",
        "s.merge(nums1,m,nums2,n)"
      ],
      "metadata": {
        "id": "h_yacvvsigbr"
      },
      "execution_count": null,
      "outputs": []
    },
    {
      "cell_type": "markdown",
      "source": [
        "Given an integer array nums, return true if any value appears at least twice in the array, and return false if every element is distinct."
      ],
      "metadata": {
        "id": "6S8-VBMSjikX"
      }
    },
    {
      "cell_type": "code",
      "source": [
        "class Solution:\n",
        "        def twice(self,nums):\n",
        "           count = 0\n",
        "           nums = sorted(nums)\n",
        "      \n",
        "           for i in range(len(nums)-1):\n",
        "       \n",
        "                if nums[i]==nums[i+1]:\n",
        "                     return True\n",
        "                     \n",
        "                else :\n",
        "                     return False\n",
        "    \n",
        "s = Solution()\n",
        "nums =  [1,2,3,1]\n",
        "s.twice(nums)\n"
      ],
      "metadata": {
        "id": "Qab-u9mymFOR"
      },
      "execution_count": null,
      "outputs": []
    },
    {
      "cell_type": "markdown",
      "source": [
        "\n",
        "💡 **Q7.** Given an integer array nums, move all 0's to the end of it while maintaining the relative order of the nonzero elements.\n",
        "\n",
        "Note that you must do this in-place without making a copy of the array.\n"
      ],
      "metadata": {
        "id": "Z5Fr7u0in9Fd"
      }
    },
    {
      "cell_type": "code",
      "source": [
        "nums = [0,1,0,3,12]\n",
        "j=0\n",
        "for i in range(len(nums)):\n",
        "    if nums[i] != 0:\n",
        "        nums[j], nums[i] = nums[i], nums[j]  # Partitioning the array\n",
        "        j += 1\n",
        "print(nums)  # Print the array"
      ],
      "metadata": {
        "id": "mLJB6xeOpVmJ"
      },
      "execution_count": null,
      "outputs": []
    },
    {
      "cell_type": "markdown",
      "source": [
        "\n",
        "💡 **Q8.** You have a set of integers s, which originally contains all the numbers from 1 to n. Unfortunately, due to some error, one of the numbers in s got duplicated to another number in the set, which results in repetition of one number and loss of another number.\n",
        "\n",
        "You are given an integer array nums representing the data status of this set after the error.\n",
        "\n",
        "Find the number that occurs twice and the number that is missing and return them in the form of an array.\n"
      ],
      "metadata": {
        "id": "25Ok5e7ArbCC"
      }
    },
    {
      "cell_type": "code",
      "source": [
        "nums = [1,2,2,4]\n",
        "dup = -1\n",
        "missing = -1\n",
        "for i in range(1,len(nums)):\n",
        "        \n",
        "    count = 0\n",
        "    for j in range(len(nums)):\n",
        "            \n",
        "         if nums[j] == i:\n",
        "            count += 1\n",
        "            \n",
        "         if count == 2:\n",
        "                dup = i\n",
        "         elif count == 0:\n",
        "                missing = i\n",
        "\n",
        "print(f\"the duplicated value is {dup} and the missing value is {missing}\")"
      ],
      "metadata": {
        "id": "hRQ5aVsJuLIL"
      },
      "execution_count": null,
      "outputs": []
    }
  ]
}